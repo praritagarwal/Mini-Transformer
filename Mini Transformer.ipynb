{
 "cells": [
  {
   "cell_type": "code",
   "execution_count": 1,
   "metadata": {},
   "outputs": [],
   "source": [
    "import torch \n",
    "import numpy as np\n",
    "import matplotlib.pyplot as plt"
   ]
  },
  {
   "cell_type": "code",
   "execution_count": 2,
   "metadata": {},
   "outputs": [],
   "source": [
    "from torch import nn\n",
    "from torch.nn import functional as F"
   ]
  },
  {
   "cell_type": "code",
   "execution_count": 3,
   "metadata": {},
   "outputs": [],
   "source": [
    "# self attention\n",
    "class self_attention(nn.Module):\n",
    "    '''\n",
    "    Module to apply self attention to an input sequence of vectors\n",
    "    \n",
    "    parameters:\n",
    "    \n",
    "    emb_dim = dimension of the embedding vector\n",
    "    h = number of self attention heads\n",
    "    \n",
    "    '''\n",
    "    def __init__(self, emb_dim, h):\n",
    "        super().__init__()\n",
    "        self.emb_dim = emb_dim\n",
    "        self.h = h\n",
    "        self.red_vec_size = emb_dim//h\n",
    "        \n",
    "        # Querry vector\n",
    "        self.WQ = nn.Linear(emb_dim, self.red_vec_size, bias = False)\n",
    "        self.WK = nn.Linear(emb_dim, self.red_vec_size, bias = False)\n",
    "        self.WV = nn.Linear(emb_dim, self.red_vec_size, bias = False)\n",
    "        \n",
    "    def forward(self, x):\n",
    "        # x has shape (batch_size, seq_len, emb_dim)\n",
    "        batch_size = x.shape[0]\n",
    "        seq_len = x.shape[1]\n",
    "        querries = self.WQ(x)\n",
    "        keys = self.WK(x)\n",
    "        values = self.WV(x)\n",
    "        att_scores = F.softmax(querries@keys.permute(0,2,1) \\\n",
    "                               /np.sqrt(self.red_vec_size), dim = 2)\n",
    "        ctx_vecs = att_scores @ values \n",
    "        assert ctx_vecs.shape == (batch_size, seq_len, self.red_vec_size ) \n",
    "        return querries, keys, values, att_scores, ctx_vecs"
   ]
  },
  {
   "cell_type": "code",
   "execution_count": 4,
   "metadata": {},
   "outputs": [],
   "source": [
    "batch_size = 5\n",
    "seq_len = 3\n",
    "emb_dim = 4\n",
    "h = 1\n",
    "x = torch.randn((batch_size, seq_len, emb_dim))\n",
    "attn = self_attention(emb_dim, h)"
   ]
  },
  {
   "cell_type": "code",
   "execution_count": 5,
   "metadata": {},
   "outputs": [
    {
     "data": {
      "text/plain": [
       "self_attention(\n",
       "  (WQ): Linear(in_features=4, out_features=4, bias=False)\n",
       "  (WK): Linear(in_features=4, out_features=4, bias=False)\n",
       "  (WV): Linear(in_features=4, out_features=4, bias=False)\n",
       ")"
      ]
     },
     "execution_count": 5,
     "metadata": {},
     "output_type": "execute_result"
    }
   ],
   "source": [
    "attn"
   ]
  },
  {
   "cell_type": "code",
   "execution_count": 6,
   "metadata": {},
   "outputs": [],
   "source": [
    "q , k, v, s, c = attn(x)"
   ]
  },
  {
   "cell_type": "code",
   "execution_count": 7,
   "metadata": {},
   "outputs": [
    {
     "data": {
      "text/plain": [
       "(torch.Size([5, 3, 4]),\n",
       " torch.Size([5, 3, 4]),\n",
       " torch.Size([5, 3, 4]),\n",
       " torch.Size([5, 3, 3]),\n",
       " torch.Size([5, 3, 4]))"
      ]
     },
     "execution_count": 7,
     "metadata": {},
     "output_type": "execute_result"
    }
   ],
   "source": [
    "q.shape, k.shape, v.shape, s.shape, c.shape"
   ]
  },
  {
   "cell_type": "code",
   "execution_count": 8,
   "metadata": {},
   "outputs": [],
   "source": [
    "q1 = q[0,0]\n",
    "keys = k[0]\n",
    "values = v[0]\n",
    "ctx_vecs = c[0]"
   ]
  },
  {
   "cell_type": "code",
   "execution_count": 9,
   "metadata": {},
   "outputs": [
    {
     "data": {
      "text/plain": [
       "tensor([-1.0314, -0.3031,  0.8409,  0.1397], grad_fn=<SelectBackward>)"
      ]
     },
     "execution_count": 9,
     "metadata": {},
     "output_type": "execute_result"
    }
   ],
   "source": [
    "q1"
   ]
  },
  {
   "cell_type": "code",
   "execution_count": 10,
   "metadata": {},
   "outputs": [
    {
     "data": {
      "text/plain": [
       "tensor([[ 0.3747, -1.2089, -0.1649,  0.8949],\n",
       "        [-0.0648,  1.3944,  0.3874,  0.3999],\n",
       "        [-0.0363, -0.1659,  0.1637, -0.6296]], grad_fn=<SelectBackward>)"
      ]
     },
     "execution_count": 10,
     "metadata": {},
     "output_type": "execute_result"
    }
   ],
   "source": [
    "keys"
   ]
  },
  {
   "cell_type": "code",
   "execution_count": 11,
   "metadata": {},
   "outputs": [
    {
     "data": {
      "text/plain": [
       "torch.Size([3, 4])"
      ]
     },
     "execution_count": 11,
     "metadata": {},
     "output_type": "execute_result"
    }
   ],
   "source": [
    "keys.shape"
   ]
  },
  {
   "cell_type": "code",
   "execution_count": 12,
   "metadata": {},
   "outputs": [
    {
     "data": {
      "text/plain": [
       "tensor([-0.0337,  0.0258,  0.1374], grad_fn=<SqueezeBackward3>)"
      ]
     },
     "execution_count": 12,
     "metadata": {},
     "output_type": "execute_result"
    }
   ],
   "source": [
    "q1@keys.T"
   ]
  },
  {
   "cell_type": "code",
   "execution_count": 13,
   "metadata": {},
   "outputs": [
    {
     "data": {
      "text/plain": [
       "tensor([0.3206, 0.3302, 0.3492], grad_fn=<SoftmaxBackward>)"
      ]
     },
     "execution_count": 13,
     "metadata": {},
     "output_type": "execute_result"
    }
   ],
   "source": [
    "scrs = F.softmax(q1@keys.T/np.sqrt(4), dim = 0)\n",
    "scrs"
   ]
  },
  {
   "cell_type": "code",
   "execution_count": 14,
   "metadata": {},
   "outputs": [
    {
     "data": {
      "text/plain": [
       "tensor([0.3206, 0.3302, 0.3492], grad_fn=<SelectBackward>)"
      ]
     },
     "execution_count": 14,
     "metadata": {},
     "output_type": "execute_result"
    }
   ],
   "source": [
    "s[0,0]"
   ]
  },
  {
   "cell_type": "code",
   "execution_count": 15,
   "metadata": {},
   "outputs": [
    {
     "data": {
      "text/plain": [
       "tensor([[[0.3206, 0.3302, 0.3492],\n",
       "         [0.2215, 0.5030, 0.2755],\n",
       "         [0.4110, 0.2363, 0.3527]],\n",
       "\n",
       "        [[0.3548, 0.3167, 0.3285],\n",
       "         [0.4189, 0.2568, 0.3243],\n",
       "         [0.3556, 0.3060, 0.3385]],\n",
       "\n",
       "        [[0.3155, 0.3380, 0.3465],\n",
       "         [0.2846, 0.4791, 0.2363],\n",
       "         [0.2929, 0.2040, 0.5032]],\n",
       "\n",
       "        [[0.3259, 0.3322, 0.3419],\n",
       "         [0.3451, 0.3391, 0.3158],\n",
       "         [0.3442, 0.3344, 0.3213]],\n",
       "\n",
       "        [[0.3278, 0.3273, 0.3448],\n",
       "         [0.3166, 0.5481, 0.1353],\n",
       "         [0.3095, 0.3506, 0.3399]]], grad_fn=<SoftmaxBackward>)"
      ]
     },
     "execution_count": 15,
     "metadata": {},
     "output_type": "execute_result"
    }
   ],
   "source": [
    "F.softmax(q@k.permute(0,2,1) /np.sqrt(4), dim = 2)"
   ]
  },
  {
   "cell_type": "code",
   "execution_count": 16,
   "metadata": {},
   "outputs": [
    {
     "data": {
      "text/plain": [
       "tensor(1., grad_fn=<SumBackward0>)"
      ]
     },
     "execution_count": 16,
     "metadata": {},
     "output_type": "execute_result"
    }
   ],
   "source": [
    "scrs.sum()"
   ]
  },
  {
   "cell_type": "code",
   "execution_count": 17,
   "metadata": {},
   "outputs": [
    {
     "data": {
      "text/plain": [
       "tensor([-0.1358, -0.0016, -0.1217, -0.0511], grad_fn=<SqueezeBackward3>)"
      ]
     },
     "execution_count": 17,
     "metadata": {},
     "output_type": "execute_result"
    }
   ],
   "source": [
    "scrs@v[0]"
   ]
  },
  {
   "cell_type": "code",
   "execution_count": 18,
   "metadata": {},
   "outputs": [
    {
     "data": {
      "text/plain": [
       "tensor([[-0.1358, -0.0016, -0.1217, -0.0511],\n",
       "        [ 0.0013,  0.3189, -0.2542, -0.0975],\n",
       "        [-0.2158, -0.2291, -0.0335, -0.0320]], grad_fn=<SelectBackward>)"
      ]
     },
     "execution_count": 18,
     "metadata": {},
     "output_type": "execute_result"
    }
   ],
   "source": [
    "c[0]"
   ]
  },
  {
   "cell_type": "code",
   "execution_count": 19,
   "metadata": {},
   "outputs": [
    {
     "data": {
      "text/plain": [
       "tensor([[[-0.1358, -0.0016, -0.1217, -0.0511],\n",
       "         [ 0.0013,  0.3189, -0.2542, -0.0975],\n",
       "         [-0.2158, -0.2291, -0.0335, -0.0320]],\n",
       "\n",
       "        [[ 0.8120, -0.0894,  0.7871,  0.5564],\n",
       "         [ 0.7608, -0.1372,  0.7545,  0.5095],\n",
       "         [ 0.7989, -0.0957,  0.7784,  0.5483]],\n",
       "\n",
       "        [[ 0.1582,  0.2911, -0.1662, -0.2523],\n",
       "         [-0.1341,  0.2950, -0.2876, -0.2172],\n",
       "         [ 0.4956,  0.2982, -0.0253, -0.2883]],\n",
       "\n",
       "        [[-0.2428, -0.4923, -0.0354, -0.2528],\n",
       "         [-0.2292, -0.5098, -0.0036, -0.2215],\n",
       "         [-0.2298, -0.5067, -0.0075, -0.2255]],\n",
       "\n",
       "        [[ 0.6654,  0.3321,  0.1367, -0.0468],\n",
       "         [ 0.9878,  0.5723,  0.1248, -0.1001],\n",
       "         [ 0.7042,  0.3354,  0.1583, -0.0388]]], grad_fn=<UnsafeViewBackward>)"
      ]
     },
     "execution_count": 19,
     "metadata": {},
     "output_type": "execute_result"
    }
   ],
   "source": [
    "attn(x)[4]"
   ]
  },
  {
   "cell_type": "code",
   "execution_count": 20,
   "metadata": {},
   "outputs": [],
   "source": [
    "class multi_head_attn(nn.Module):\n",
    "    '''\n",
    "    Module to create multiple attention heads\n",
    "    \n",
    "    parameters:\n",
    "    \n",
    "    emb_dim = dimension of the embedding vectors\n",
    "    h = number of attention heads\n",
    "    parallelize = parallelize the computations for differnt heads \n",
    "    \n",
    "    '''\n",
    "    def __init__(self, emb_dim, h, p_drop = 0.1, parallelize = 'False'):\n",
    "        super().__init__()\n",
    "        self.emb_dim = emb_dim\n",
    "        self.h = h\n",
    "        self.red_vec_size = emb_dim // h \n",
    "        \n",
    "        self.heads = [self_attention(emb_dim, h) for i in range(h)]\n",
    "        \n",
    "        # transform the contatenated context vectors to have same size as emb_sim\n",
    "        # this is to be able to enable implement a skip-connection between the input and output\n",
    "        self.Wo = nn.Linear(self.red_vec_size*h, emb_dim, bias = False) \n",
    "        \n",
    "        # layer norm\n",
    "        # should we apply \n",
    "        self.LNorm = nn.LayerNorm(emb_dim)\n",
    "        \n",
    "        self.drop = nn.Dropout(p_drop)\n",
    "        \n",
    "    def forward(self, x):\n",
    "        ctx_vecs = torch.cat([head(x)[4] for head in self.heads], dim = 2)\n",
    "        transformed = self.drop(self.Wo(ctx_vecs))\n",
    "        \n",
    "        return self.LNorm(x + transformed)"
   ]
  },
  {
   "cell_type": "code",
   "execution_count": 21,
   "metadata": {},
   "outputs": [],
   "source": [
    "batch_size = 5\n",
    "seq_len = 3\n",
    "emb_dim = 6\n",
    "h = 2\n",
    "x = torch.randn((batch_size, seq_len, emb_dim))\n",
    "multihead = multi_head_attn(emb_dim, h)"
   ]
  },
  {
   "cell_type": "code",
   "execution_count": 22,
   "metadata": {},
   "outputs": [],
   "source": [
    "ctx = multihead(x)"
   ]
  },
  {
   "cell_type": "code",
   "execution_count": 23,
   "metadata": {},
   "outputs": [
    {
     "data": {
      "text/plain": [
       "torch.Size([5, 3, 6])"
      ]
     },
     "execution_count": 23,
     "metadata": {},
     "output_type": "execute_result"
    }
   ],
   "source": [
    "ctx.shape"
   ]
  },
  {
   "cell_type": "code",
   "execution_count": 24,
   "metadata": {},
   "outputs": [
    {
     "data": {
      "text/plain": [
       "tensor([[[-4.1064e-01, -1.3871e+00,  2.4360e-01, -8.5868e-01,  1.5224e+00,\n",
       "           8.9045e-01],\n",
       "         [-2.8164e-01, -3.8842e-01,  1.0994e-01,  1.8239e+00,  2.7160e-01,\n",
       "          -1.5354e+00],\n",
       "         [-5.3017e-01,  1.9463e+00,  6.5063e-01, -9.1471e-01, -6.3513e-01,\n",
       "          -5.1694e-01]],\n",
       "\n",
       "        [[-3.9618e-01, -1.2301e+00,  9.2241e-01, -9.1933e-01,  1.6228e+00,\n",
       "           3.5165e-04],\n",
       "         [-9.6310e-01,  1.8657e+00, -5.2858e-01,  6.0387e-01, -9.7342e-01,\n",
       "          -4.4662e-03],\n",
       "         [-6.3381e-01,  2.3347e-01,  5.1089e-01,  1.7669e+00, -1.3849e+00,\n",
       "          -4.9260e-01]],\n",
       "\n",
       "        [[ 1.3604e+00, -6.3797e-01, -1.6082e+00,  4.2927e-01, -4.3031e-01,\n",
       "           8.8678e-01],\n",
       "         [ 7.9993e-02,  1.1034e+00, -2.0039e+00, -9.8762e-02,  8.6470e-01,\n",
       "           5.4556e-02],\n",
       "         [-1.7524e+00,  5.1812e-01, -1.1487e-01, -4.1972e-01,  1.5578e+00,\n",
       "           2.1108e-01]],\n",
       "\n",
       "        [[ 2.0461e+00, -1.8943e-01,  2.6867e-01, -1.0729e+00, -5.3637e-01,\n",
       "          -5.1611e-01],\n",
       "         [-2.8147e-01, -1.2208e+00,  1.0317e+00,  8.0713e-01,  9.8448e-01,\n",
       "          -1.3210e+00],\n",
       "         [ 1.4274e+00, -8.4496e-01,  1.0756e+00, -1.4034e-01, -8.0577e-02,\n",
       "          -1.4371e+00]],\n",
       "\n",
       "        [[-1.5978e+00,  5.7749e-01, -3.7970e-01, -2.8189e-01,  1.6998e+00,\n",
       "          -1.7913e-02],\n",
       "         [-1.5885e+00,  7.4922e-01, -1.7347e-01, -9.4893e-01,  1.1554e+00,\n",
       "           8.0628e-01],\n",
       "         [-6.2031e-01,  4.3017e-01,  9.8901e-02, -7.2298e-01, -1.1039e+00,\n",
       "           1.9181e+00]]], grad_fn=<NativeLayerNormBackward>)"
      ]
     },
     "execution_count": 24,
     "metadata": {},
     "output_type": "execute_result"
    }
   ],
   "source": [
    "ctx"
   ]
  },
  {
   "cell_type": "code",
   "execution_count": 25,
   "metadata": {},
   "outputs": [
    {
     "data": {
      "text/plain": [
       "multi_head_attn(\n",
       "  (Wo): Linear(in_features=6, out_features=6, bias=False)\n",
       "  (LNorm): LayerNorm((6,), eps=1e-05, elementwise_affine=True)\n",
       "  (drop): Dropout(p=0.1, inplace=False)\n",
       ")"
      ]
     },
     "execution_count": 25,
     "metadata": {},
     "output_type": "execute_result"
    }
   ],
   "source": [
    "multihead"
   ]
  },
  {
   "cell_type": "code",
   "execution_count": 26,
   "metadata": {},
   "outputs": [
    {
     "data": {
      "text/plain": [
       "[Parameter containing:\n",
       " tensor([1., 1., 1., 1., 1., 1.], requires_grad=True), Parameter containing:\n",
       " tensor([0., 0., 0., 0., 0., 0.], requires_grad=True)]"
      ]
     },
     "execution_count": 26,
     "metadata": {},
     "output_type": "execute_result"
    }
   ],
   "source": [
    "list(multihead.LNorm.parameters())"
   ]
  },
  {
   "cell_type": "code",
   "execution_count": 27,
   "metadata": {},
   "outputs": [
    {
     "data": {
      "text/plain": [
       "tensor([[-4.9671e-08, -1.9868e-08, -3.9736e-08],\n",
       "        [ 1.7191e-08, -3.8184e-08,  0.0000e+00],\n",
       "        [ 6.9539e-08, -1.1176e-08, -3.2286e-08],\n",
       "        [ 2.9802e-08,  1.9868e-08, -3.9736e-08],\n",
       "        [ 5.7742e-08,  1.9868e-08,  1.9868e-08]], grad_fn=<MeanBackward1>)"
      ]
     },
     "execution_count": 27,
     "metadata": {},
     "output_type": "execute_result"
    }
   ],
   "source": [
    "ctx.mean(dim = 2)"
   ]
  },
  {
   "cell_type": "code",
   "execution_count": 28,
   "metadata": {},
   "outputs": [
    {
     "data": {
      "text/plain": [
       "tensor([[1.0954, 1.0954, 1.0954],\n",
       "        [1.0954, 1.0954, 1.0954],\n",
       "        [1.0954, 1.0954, 1.0954],\n",
       "        [1.0954, 1.0954, 1.0954],\n",
       "        [1.0954, 1.0954, 1.0954]], grad_fn=<StdBackward1>)"
      ]
     },
     "execution_count": 28,
     "metadata": {},
     "output_type": "execute_result"
    }
   ],
   "source": [
    "ctx.std(dim = 2)"
   ]
  },
  {
   "cell_type": "code",
   "execution_count": 29,
   "metadata": {},
   "outputs": [],
   "source": [
    "class encoder(nn.Module):\n",
    "    '''\n",
    "    The complete encoder module.\n",
    "    \n",
    "    parameters:\n",
    "    \n",
    "    emb_dim = dimension of the embedding vectors\n",
    "    h = number of attention heads\n",
    "    parallelize = parallelize the computations for differnt heads \n",
    "    ffn_l1_out_fts = number of out_features of 1st layer in feed forward NN. Default is 2048 a suggested in the original paper\n",
    "    \n",
    "    \n",
    "    '''\n",
    "    \n",
    "    def __init__(self, emb_dim, h, p_drop = 0.1, parallelize = False, ffn_l1_out_fts = 2048 ):\n",
    "        super().__init__()\n",
    "        self.emb_dim = emb_dim\n",
    "        self.h = h\n",
    "        self.red_vec_size = emb_dim//h\n",
    "        \n",
    "        # multi_head_attention sub-layer\n",
    "        self.mul_h_attn = multi_head_attn(emb_dim, h, parallelize)\n",
    "        \n",
    "        # feedforward sublayers\n",
    "        self.l1 = nn.Linear(emb_dim, ffn_l1_out_fts)\n",
    "        self.l2 = nn.Linear(ffn_l1_out_fts, emb_dim)\n",
    "        \n",
    "        # layer norm\n",
    "        self.LNorm = nn.LayerNorm(emb_dim) \n",
    "        \n",
    "        self.drop = nn.Dropout(p_drop)\n",
    "        \n",
    "    def forward(self, x):\n",
    "        ctx_vecs = self.mul_h_attn(x)\n",
    "        out = torch.relu(self.l1(ctx_vecs))\n",
    "        out = self.drop(self.l2(out))\n",
    "        \n",
    "        return self.LNorm(out + ctx_vecs)\n",
    "            "
   ]
  },
  {
   "cell_type": "code",
   "execution_count": 30,
   "metadata": {},
   "outputs": [],
   "source": [
    "batch_size = 5\n",
    "seq_len = 3\n",
    "emb_dim = 6\n",
    "h = 2\n",
    "x = torch.randn((batch_size, seq_len, emb_dim))\n",
    "enc = encoder(emb_dim, h)"
   ]
  },
  {
   "cell_type": "code",
   "execution_count": 31,
   "metadata": {},
   "outputs": [
    {
     "data": {
      "text/plain": [
       "encoder(\n",
       "  (mul_h_attn): multi_head_attn(\n",
       "    (Wo): Linear(in_features=6, out_features=6, bias=False)\n",
       "    (LNorm): LayerNorm((6,), eps=1e-05, elementwise_affine=True)\n",
       "    (drop): Dropout(p=False, inplace=False)\n",
       "  )\n",
       "  (l1): Linear(in_features=6, out_features=2048, bias=True)\n",
       "  (l2): Linear(in_features=2048, out_features=6, bias=True)\n",
       "  (LNorm): LayerNorm((6,), eps=1e-05, elementwise_affine=True)\n",
       "  (drop): Dropout(p=0.1, inplace=False)\n",
       ")"
      ]
     },
     "execution_count": 31,
     "metadata": {},
     "output_type": "execute_result"
    }
   ],
   "source": [
    "enc"
   ]
  },
  {
   "cell_type": "code",
   "execution_count": 32,
   "metadata": {},
   "outputs": [
    {
     "data": {
      "text/plain": [
       "tensor([[[-1.3483,  1.5321, -0.0805,  0.9615, -0.9427, -0.1222],\n",
       "         [-1.1032,  1.8091, -0.8596, -0.5028,  0.7174, -0.0608],\n",
       "         [ 0.8576,  0.6228,  0.2322,  0.6980, -2.0508, -0.3598]],\n",
       "\n",
       "        [[ 1.0219, -0.7204, -0.3305,  1.6504, -0.4307, -1.1908],\n",
       "         [-0.6353, -0.5219,  1.8023, -0.3116, -1.1473,  0.8138],\n",
       "         [-0.2948, -0.5906,  1.7865, -0.9642,  0.8804, -0.8172]],\n",
       "\n",
       "        [[ 1.8316, -0.9084,  0.4448, -0.6114,  0.3153, -1.0719],\n",
       "         [ 1.5792, -1.3215, -0.6016,  0.4079, -0.8161,  0.7521],\n",
       "         [-0.8307,  0.0321,  0.3367,  1.0778, -1.6943,  1.0785]],\n",
       "\n",
       "        [[-1.4939, -0.7144,  0.8934,  1.0832, -0.6777,  0.9095],\n",
       "         [ 1.4566, -1.1226, -0.3464,  1.2756, -0.8229, -0.4404],\n",
       "         [ 0.8849,  1.0277, -0.0203,  0.5917, -1.8441, -0.6399]],\n",
       "\n",
       "        [[-0.8583, -0.3137,  1.9140, -0.0414,  0.4415, -1.1422],\n",
       "         [-0.9590, -1.2817, -0.3318,  0.8109,  0.1330,  1.6286],\n",
       "         [-1.2759,  0.3068, -1.2981,  0.2983,  0.4527,  1.5162]]],\n",
       "       grad_fn=<NativeLayerNormBackward>)"
      ]
     },
     "execution_count": 32,
     "metadata": {},
     "output_type": "execute_result"
    }
   ],
   "source": [
    "enc_out = enc(x)\n",
    "enc_out"
   ]
  },
  {
   "cell_type": "code",
   "execution_count": 33,
   "metadata": {},
   "outputs": [
    {
     "data": {
      "text/plain": [
       "torch.Size([5, 3, 6])"
      ]
     },
     "execution_count": 33,
     "metadata": {},
     "output_type": "execute_result"
    }
   ],
   "source": [
    "enc_out.shape"
   ]
  },
  {
   "cell_type": "code",
   "execution_count": 34,
   "metadata": {},
   "outputs": [
    {
     "data": {
      "text/plain": [
       "torch.Size([5, 3, 6])"
      ]
     },
     "execution_count": 34,
     "metadata": {},
     "output_type": "execute_result"
    }
   ],
   "source": [
    "x.shape"
   ]
  },
  {
   "cell_type": "code",
   "execution_count": 35,
   "metadata": {},
   "outputs": [],
   "source": [
    "class encoder_decoder_attention(nn.Module):\n",
    "    '''\n",
    "    Module to implement the encoder_decoder attention layer. \n",
    "    This is same as the self_attention layer except that it takes two input vectors: \n",
    "                 1)encoder's final output \n",
    "                 2) output from previous decoder layer\n",
    "    The querries are generated from the previous decoder layer's output\n",
    "    The keys and the values are generated from the encoder's output \n",
    "         \n",
    "    '''\n",
    "    def __init__(self, emb_dim, h):\n",
    "        super().__init__()\n",
    "        \n",
    "        self.emb_dim = emb_dim\n",
    "        self.h = h\n",
    "        self.red_vec_size = emb_dim//h\n",
    "        \n",
    "        # Querry vector\n",
    "        self.WQ = nn.Linear(emb_dim, self.red_vec_size, bias = False)\n",
    "        # Key vector\n",
    "        self.WK = nn.Linear(emb_dim, self.red_vec_size, bias = False)\n",
    "        # Value vector\n",
    "        self.WV = nn.Linear(emb_dim, self.red_vec_size, bias = False)\n",
    "        \n",
    "    def forward(self, enc_out, dec_out):\n",
    "        # x has shape (batch_size, seq_len, emb_dim)\n",
    "        batch_size = enc_out.shape[0]\n",
    "        seq_len = dec_out.shape[1] \n",
    "        querries = self.WQ(dec_out)\n",
    "        keys = self.WK(enc_out)\n",
    "        values = self.WV(enc_out)\n",
    "        att_scores = F.softmax((querries@keys.permute(0,2,1))\\\n",
    "                               /np.sqrt(self.red_vec_size), dim = 2)\n",
    "        ctx_vecs = att_scores @ values \n",
    "        assert ctx_vecs.shape == (batch_size, seq_len, self.red_vec_size ) \n",
    "        return querries, keys, values, att_scores, ctx_vecs"
   ]
  },
  {
   "cell_type": "code",
   "execution_count": 36,
   "metadata": {},
   "outputs": [
    {
     "data": {
      "text/plain": [
       "encoder_decoder_attention(\n",
       "  (WQ): Linear(in_features=6, out_features=3, bias=False)\n",
       "  (WK): Linear(in_features=6, out_features=3, bias=False)\n",
       "  (WV): Linear(in_features=6, out_features=3, bias=False)\n",
       ")"
      ]
     },
     "execution_count": 36,
     "metadata": {},
     "output_type": "execute_result"
    }
   ],
   "source": [
    "batch_size = 5\n",
    "seq_len = 4\n",
    "emb_dim = 6\n",
    "h = 2\n",
    "enc_out = torch.randn((batch_size, seq_len, emb_dim))\n",
    "dec_out = torch.randn(batch_size, seq_len, emb_dim)\n",
    "enc_dec_attn = encoder_decoder_attention(emb_dim, h)\n",
    "enc_dec_attn"
   ]
  },
  {
   "cell_type": "code",
   "execution_count": 37,
   "metadata": {},
   "outputs": [],
   "source": [
    "q, k, v, s, c = enc_dec_attn(enc_out, dec_out)"
   ]
  },
  {
   "cell_type": "code",
   "execution_count": 38,
   "metadata": {},
   "outputs": [
    {
     "data": {
      "text/plain": [
       "(torch.Size([5, 4, 3]),\n",
       " torch.Size([5, 4, 3]),\n",
       " torch.Size([5, 4, 3]),\n",
       " torch.Size([5, 4, 4]),\n",
       " torch.Size([5, 4, 3]))"
      ]
     },
     "execution_count": 38,
     "metadata": {},
     "output_type": "execute_result"
    }
   ],
   "source": [
    "q.shape, k.shape, v.shape, s.shape, c.shape"
   ]
  },
  {
   "cell_type": "code",
   "execution_count": 39,
   "metadata": {},
   "outputs": [
    {
     "data": {
      "text/plain": [
       "tensor([ 0.1029,  0.1186, -0.0044], grad_fn=<SelectBackward>)"
      ]
     },
     "execution_count": 39,
     "metadata": {},
     "output_type": "execute_result"
    }
   ],
   "source": [
    "q1 = q[0,0]\n",
    "q1"
   ]
  },
  {
   "cell_type": "code",
   "execution_count": 40,
   "metadata": {},
   "outputs": [
    {
     "data": {
      "text/plain": [
       "torch.Size([4, 3])"
      ]
     },
     "execution_count": 40,
     "metadata": {},
     "output_type": "execute_result"
    }
   ],
   "source": [
    "keys = k[0]\n",
    "keys.shape"
   ]
  },
  {
   "cell_type": "code",
   "execution_count": 41,
   "metadata": {},
   "outputs": [
    {
     "data": {
      "text/plain": [
       "tensor([ 0.0756, -0.1248,  0.0227, -0.1537], grad_fn=<SqueezeBackward3>)"
      ]
     },
     "execution_count": 41,
     "metadata": {},
     "output_type": "execute_result"
    }
   ],
   "source": [
    "q1@keys.T"
   ]
  },
  {
   "cell_type": "code",
   "execution_count": 42,
   "metadata": {},
   "outputs": [
    {
     "data": {
      "text/plain": [
       "tensor([[[ 0.0756, -0.1248,  0.0227, -0.1537],\n",
       "         [ 0.0872,  0.0409,  0.0299, -0.4761],\n",
       "         [-0.0154,  0.4713, -0.0894, -0.3468],\n",
       "         [ 0.4081, -0.4477,  0.1143, -1.1486]],\n",
       "\n",
       "        [[-0.0164, -0.2652, -0.1197, -0.1430],\n",
       "         [ 0.0401, -0.0363,  0.1068,  0.1958],\n",
       "         [ 0.1085,  0.2425,  0.0118,  0.6188],\n",
       "         [-0.1510, -0.5897, -0.8944, -0.8882]],\n",
       "\n",
       "        [[ 0.3709,  0.0055, -0.0772, -0.3590],\n",
       "         [ 1.5343, -0.1651, -0.1205, -3.1556],\n",
       "         [-0.7267, -0.2349,  0.0049,  0.7369],\n",
       "         [ 0.3168, -0.0300,  0.0682, -1.1303]],\n",
       "\n",
       "        [[-0.5617,  0.6682, -0.5460,  0.3957],\n",
       "         [-0.4537,  0.4233, -0.3995,  0.2854],\n",
       "         [ 0.4149, -0.4033,  0.3639, -0.2499],\n",
       "         [-0.6814,  0.6980, -0.6365,  0.4783]],\n",
       "\n",
       "        [[-0.1548, -0.4114,  0.2064, -0.2677],\n",
       "         [ 0.2737,  0.7620, -0.6614,  0.4494],\n",
       "         [ 0.8711, -0.3750,  0.4456, -0.2468],\n",
       "         [-0.6290,  0.0325, -0.1076,  0.0350]]], grad_fn=<UnsafeViewBackward>)"
      ]
     },
     "execution_count": 42,
     "metadata": {},
     "output_type": "execute_result"
    }
   ],
   "source": [
    "q @ k.permute(0,2,1)"
   ]
  },
  {
   "cell_type": "code",
   "execution_count": 43,
   "metadata": {},
   "outputs": [
    {
     "data": {
      "text/plain": [
       "tensor([[[ 0.0756,  0.0872, -0.0154,  0.4081],\n",
       "         [-0.1248,  0.0409,  0.4713, -0.4477],\n",
       "         [ 0.0227,  0.0299, -0.0894,  0.1143],\n",
       "         [-0.1537, -0.4761, -0.3468, -1.1486]],\n",
       "\n",
       "        [[-0.0164,  0.0401,  0.1085, -0.1510],\n",
       "         [-0.2652, -0.0363,  0.2425, -0.5897],\n",
       "         [-0.1197,  0.1068,  0.0118, -0.8944],\n",
       "         [-0.1430,  0.1958,  0.6188, -0.8882]],\n",
       "\n",
       "        [[ 0.3709,  1.5343, -0.7267,  0.3168],\n",
       "         [ 0.0055, -0.1651, -0.2349, -0.0300],\n",
       "         [-0.0772, -0.1205,  0.0049,  0.0682],\n",
       "         [-0.3590, -3.1556,  0.7369, -1.1303]],\n",
       "\n",
       "        [[-0.5617, -0.4537,  0.4149, -0.6814],\n",
       "         [ 0.6682,  0.4233, -0.4033,  0.6980],\n",
       "         [-0.5460, -0.3995,  0.3639, -0.6365],\n",
       "         [ 0.3957,  0.2854, -0.2499,  0.4783]],\n",
       "\n",
       "        [[-0.1548,  0.2737,  0.8711, -0.6290],\n",
       "         [-0.4114,  0.7620, -0.3750,  0.0325],\n",
       "         [ 0.2064, -0.6614,  0.4456, -0.1076],\n",
       "         [-0.2677,  0.4494, -0.2468,  0.0350]]], grad_fn=<PermuteBackward>)"
      ]
     },
     "execution_count": 43,
     "metadata": {},
     "output_type": "execute_result"
    }
   ],
   "source": [
    "(q @ k.permute(0,2,1)).permute(0,2,1)"
   ]
  },
  {
   "cell_type": "code",
   "execution_count": 44,
   "metadata": {},
   "outputs": [
    {
     "data": {
      "text/plain": [
       "tensor([0.2676, 0.2384, 0.2596, 0.2344], grad_fn=<SoftmaxBackward>)"
      ]
     },
     "execution_count": 44,
     "metadata": {},
     "output_type": "execute_result"
    }
   ],
   "source": [
    "scores1 = F.softmax((q1@keys.T/np.sqrt(3)), dim = 0)\n",
    "scores1"
   ]
  },
  {
   "cell_type": "code",
   "execution_count": 45,
   "metadata": {},
   "outputs": [
    {
     "data": {
      "text/plain": [
       "tensor([[0.2676, 0.2384, 0.2596, 0.2344],\n",
       "        [0.2730, 0.2658, 0.2641, 0.1972],\n",
       "        [0.2434, 0.3224, 0.2332, 0.2010],\n",
       "        [0.3495, 0.2132, 0.2950, 0.1423]], grad_fn=<SelectBackward>)"
      ]
     },
     "execution_count": 45,
     "metadata": {},
     "output_type": "execute_result"
    }
   ],
   "source": [
    "s[0]"
   ]
  },
  {
   "cell_type": "code",
   "execution_count": 46,
   "metadata": {},
   "outputs": [
    {
     "data": {
      "text/plain": [
       "tensor(1., grad_fn=<SumBackward0>)"
      ]
     },
     "execution_count": 46,
     "metadata": {},
     "output_type": "execute_result"
    }
   ],
   "source": [
    "scores1.sum()"
   ]
  },
  {
   "cell_type": "code",
   "execution_count": 47,
   "metadata": {},
   "outputs": [
    {
     "data": {
      "text/plain": [
       "tensor([[ 0.2467, -0.2977, -0.3000],\n",
       "        [ 0.6025, -0.7979, -0.8116],\n",
       "        [ 0.0734,  0.4271,  0.9142],\n",
       "        [ 0.4020, -0.3414, -1.0237]], grad_fn=<SelectBackward>)"
      ]
     },
     "execution_count": 47,
     "metadata": {},
     "output_type": "execute_result"
    }
   ],
   "source": [
    "v[0]"
   ]
  },
  {
   "cell_type": "code",
   "execution_count": 48,
   "metadata": {},
   "outputs": [
    {
     "data": {
      "text/plain": [
       "tensor([ 0.3230, -0.2391, -0.2764], grad_fn=<SqueezeBackward3>)"
      ]
     },
     "execution_count": 48,
     "metadata": {},
     "output_type": "execute_result"
    }
   ],
   "source": [
    "scores1 @ v[0]"
   ]
  },
  {
   "cell_type": "code",
   "execution_count": 49,
   "metadata": {},
   "outputs": [
    {
     "data": {
      "text/plain": [
       "tensor([[ 0.3230, -0.2391, -0.2764],\n",
       "        [ 0.3261, -0.2479, -0.2580],\n",
       "        [ 0.3522, -0.2987, -0.3272],\n",
       "        [ 0.2936, -0.1968, -0.1539]], grad_fn=<SelectBackward>)"
      ]
     },
     "execution_count": 49,
     "metadata": {},
     "output_type": "execute_result"
    }
   ],
   "source": [
    "c[0]"
   ]
  },
  {
   "cell_type": "code",
   "execution_count": 50,
   "metadata": {},
   "outputs": [
    {
     "data": {
      "text/plain": [
       "tensor([ 0.4497, -0.1251, -0.5427], grad_fn=<SelectBackward>)"
      ]
     },
     "execution_count": 50,
     "metadata": {},
     "output_type": "execute_result"
    }
   ],
   "source": [
    "q2 = q[0,1]\n",
    "q2"
   ]
  },
  {
   "cell_type": "code",
   "execution_count": 51,
   "metadata": {},
   "outputs": [
    {
     "data": {
      "text/plain": [
       "tensor([0.2730, 0.2658, 0.2641, 0.1972], grad_fn=<SoftmaxBackward>)"
      ]
     },
     "execution_count": 51,
     "metadata": {},
     "output_type": "execute_result"
    }
   ],
   "source": [
    "scores2 = F.softmax((q2@keys.T/np.sqrt(3)), dim = 0)\n",
    "scores2"
   ]
  },
  {
   "cell_type": "code",
   "execution_count": 52,
   "metadata": {},
   "outputs": [
    {
     "data": {
      "text/plain": [
       "tensor([ 0.3261, -0.2479, -0.2580], grad_fn=<SqueezeBackward3>)"
      ]
     },
     "execution_count": 52,
     "metadata": {},
     "output_type": "execute_result"
    }
   ],
   "source": [
    "scores2@v[0]"
   ]
  },
  {
   "cell_type": "code",
   "execution_count": 53,
   "metadata": {},
   "outputs": [
    {
     "data": {
      "text/plain": [
       "tensor([-0.1543, -0.0446,  0.3303], grad_fn=<SqueezeBackward3>)"
      ]
     },
     "execution_count": 53,
     "metadata": {},
     "output_type": "execute_result"
    }
   ],
   "source": [
    "qq1 = q[1,0]\n",
    "keys = k[1]\n",
    "scores = F.softmax((qq1@keys.T/np.sqrt(3)), dim = 0)\n",
    "scores@v[1]"
   ]
  },
  {
   "cell_type": "code",
   "execution_count": 54,
   "metadata": {},
   "outputs": [
    {
     "data": {
      "text/plain": [
       "tensor([[-0.1543, -0.0446,  0.3303],\n",
       "        [-0.1581, -0.0394,  0.3407],\n",
       "        [-0.1663, -0.0300,  0.3654],\n",
       "        [-0.1463, -0.0492,  0.3323]], grad_fn=<SelectBackward>)"
      ]
     },
     "execution_count": 54,
     "metadata": {},
     "output_type": "execute_result"
    }
   ],
   "source": [
    "c[1]"
   ]
  },
  {
   "cell_type": "code",
   "execution_count": 55,
   "metadata": {},
   "outputs": [],
   "source": [
    "class multi_head_enc_dec_attn(nn.Module):\n",
    "    def __init__(self, emb_dim, h, p_drop = 0.1):\n",
    "        super().__init__()\n",
    "        self.emb_dim = emb_dim\n",
    "        self.h = h\n",
    "        self.red_vec_size = emb_dim // h \n",
    "        \n",
    "        self.heads = [encoder_decoder_attention(emb_dim, h) for i in range(h)]\n",
    "        \n",
    "        # transform the contatenated context vectors to have same size as emb_sim\n",
    "        # this is to be able to enable implement a skip-connection between the input and output\n",
    "        self.Wo = nn.Linear(self.red_vec_size*h, emb_dim, bias = False) \n",
    "        \n",
    "        # layer norm\n",
    "        # should we apply \n",
    "        self.LNorm = nn.LayerNorm(emb_dim)\n",
    "        self.drop = nn.Dropout(p_drop)\n",
    "        \n",
    "    def forward(self, enc_out, dec_out):\n",
    "        ctx_vecs = torch.cat([head(enc_out, dec_out)[4] for head in self.heads], dim = 2)\n",
    "        transformed = self.drop(self.Wo(ctx_vecs))\n",
    "        \n",
    "        return self.LNorm(dec_out + transformed)"
   ]
  },
  {
   "cell_type": "code",
   "execution_count": 56,
   "metadata": {},
   "outputs": [
    {
     "data": {
      "text/plain": [
       "multi_head_enc_dec_attn(\n",
       "  (Wo): Linear(in_features=6, out_features=7, bias=False)\n",
       "  (LNorm): LayerNorm((7,), eps=1e-05, elementwise_affine=True)\n",
       "  (drop): Dropout(p=0.1, inplace=False)\n",
       ")"
      ]
     },
     "execution_count": 56,
     "metadata": {},
     "output_type": "execute_result"
    }
   ],
   "source": [
    "batch_size = 5\n",
    "seq_len = 4\n",
    "emb_dim = 7\n",
    "h = 2\n",
    "enc_out = torch.randn((batch_size, seq_len, emb_dim))\n",
    "dec_out = torch.randn(batch_size, seq_len, emb_dim)\n",
    "enc_dec_attn = multi_head_enc_dec_attn(emb_dim, h)\n",
    "enc_dec_attn"
   ]
  },
  {
   "cell_type": "code",
   "execution_count": 57,
   "metadata": {},
   "outputs": [],
   "source": [
    "ctx = enc_dec_attn(enc_out, dec_out)"
   ]
  },
  {
   "cell_type": "code",
   "execution_count": 58,
   "metadata": {},
   "outputs": [
    {
     "data": {
      "text/plain": [
       "torch.Size([5, 4, 7])"
      ]
     },
     "execution_count": 58,
     "metadata": {},
     "output_type": "execute_result"
    }
   ],
   "source": [
    "ctx.shape"
   ]
  },
  {
   "cell_type": "code",
   "execution_count": 59,
   "metadata": {},
   "outputs": [
    {
     "data": {
      "text/plain": [
       "multi_head_enc_dec_attn(\n",
       "  (Wo): Linear(in_features=6, out_features=7, bias=False)\n",
       "  (LNorm): LayerNorm((7,), eps=1e-05, elementwise_affine=True)\n",
       "  (drop): Dropout(p=0.1, inplace=False)\n",
       ")"
      ]
     },
     "execution_count": 59,
     "metadata": {},
     "output_type": "execute_result"
    }
   ],
   "source": [
    "batch_size = 5\n",
    "enc_seq_len = 4\n",
    "dec_seq_len = 2\n",
    "emb_dim = 7\n",
    "h = 2\n",
    "enc_out = torch.randn((batch_size, enc_seq_len, emb_dim))\n",
    "dec_out = torch.randn(batch_size, dec_seq_len, emb_dim)\n",
    "enc_dec_attn = multi_head_enc_dec_attn(emb_dim, h)\n",
    "enc_dec_attn"
   ]
  },
  {
   "cell_type": "code",
   "execution_count": 60,
   "metadata": {},
   "outputs": [
    {
     "data": {
      "text/plain": [
       "tensor([[[ 1.1711, -1.1709,  1.0982, -0.2953,  0.3423,  0.4741, -1.6194],\n",
       "         [ 1.3957, -0.4433, -1.2028,  0.8868, -0.5694, -1.1050,  1.0379]],\n",
       "\n",
       "        [[-0.5090, -0.6015,  1.5085, -0.2069,  1.2823,  0.0790, -1.5525],\n",
       "         [-1.0828, -0.7441,  1.4600, -1.1130,  0.8267,  1.0360, -0.3829]],\n",
       "\n",
       "        [[ 1.2973, -1.6209,  0.9348,  0.7669,  0.1634, -0.8497, -0.6919],\n",
       "         [-2.0587,  0.3314,  0.3602,  1.5474, -0.2312,  0.2165, -0.1656]],\n",
       "\n",
       "        [[-0.0920,  0.9164,  0.8616,  1.2096, -0.5995, -0.4586, -1.8375],\n",
       "         [ 0.7972, -0.3917, -1.7374, -0.5560, -0.4122,  1.3338,  0.9665]],\n",
       "\n",
       "        [[ 0.1504,  0.9320, -2.0696,  1.0122,  0.7221, -0.3676, -0.3795],\n",
       "         [ 1.2064,  0.1238,  0.1759,  1.2276, -1.8877, -0.6101, -0.2359]]],\n",
       "       grad_fn=<NativeLayerNormBackward>)"
      ]
     },
     "execution_count": 60,
     "metadata": {},
     "output_type": "execute_result"
    }
   ],
   "source": [
    "enc_dec_attn(enc_out, dec_out)"
   ]
  },
  {
   "cell_type": "code",
   "execution_count": 61,
   "metadata": {},
   "outputs": [
    {
     "data": {
      "text/plain": [
       "tensor([[[ 1.3487, -1.0080,  1.1054, -0.2318,  0.2958,  0.1564, -1.6664],\n",
       "         [ 1.3501, -0.2477, -0.9082,  0.8189, -0.7926, -1.3285,  1.1079]],\n",
       "\n",
       "        [[-0.1454, -1.0403,  1.0055,  0.2977,  1.5432, -0.1103, -1.5503],\n",
       "         [-0.8787, -1.1999,  1.1658, -0.7971,  1.2266,  1.0073, -0.5239]],\n",
       "\n",
       "        [[ 1.0944, -1.5910,  0.8559,  0.9670,  0.2592, -1.1665, -0.4190],\n",
       "         [-1.9486,  0.3670,  0.2123,  1.7130,  0.0643, -0.2329, -0.1751]],\n",
       "\n",
       "        [[-0.2817,  0.3685,  1.0967,  1.5727, -0.6840, -0.5392, -1.5330],\n",
       "         [ 0.4923, -1.1785, -1.3725,  0.1183, -0.5529,  1.0779,  1.4153]],\n",
       "\n",
       "        [[-0.1170,  1.6504, -1.9581,  0.0618,  0.4747,  0.2544, -0.3662],\n",
       "         [ 0.8939,  0.5020,  0.3712,  0.3950, -2.3384, -0.2046,  0.3809]]],\n",
       "       grad_fn=<NativeLayerNormBackward>)"
      ]
     },
     "execution_count": 61,
     "metadata": {},
     "output_type": "execute_result"
    }
   ],
   "source": [
    "slfattn = multi_head_attn(emb_dim, h)\n",
    "slfattn(dec_out)"
   ]
  },
  {
   "cell_type": "code",
   "execution_count": 62,
   "metadata": {},
   "outputs": [],
   "source": [
    "dec_out2 = torch.randn(batch_size, dec_seq_len+1, emb_dim)"
   ]
  },
  {
   "cell_type": "code",
   "execution_count": 63,
   "metadata": {},
   "outputs": [
    {
     "data": {
      "text/plain": [
       "tensor([[[-1.5686e+00, -8.6963e-01, -6.5939e-01,  7.1400e-01,  1.2092e+00,\n",
       "           1.1732e+00,  1.1657e-03],\n",
       "         [-1.6899e+00,  1.5516e+00, -8.7781e-01,  6.1185e-01,  1.1336e-01,\n",
       "          -3.7246e-01,  6.6343e-01],\n",
       "         [-3.7584e-01, -5.6523e-01,  4.9856e-01,  1.4796e+00,  1.0031e+00,\n",
       "          -1.7322e+00, -3.0804e-01]],\n",
       "\n",
       "        [[-2.0185e-01, -1.0596e+00,  1.5548e+00,  5.7128e-01,  7.8718e-01,\n",
       "          -1.5704e+00, -8.1464e-02],\n",
       "         [ 1.1978e+00,  4.9161e-01, -9.3503e-01, -1.1155e+00, -1.2132e+00,\n",
       "           2.9031e-01,  1.2841e+00],\n",
       "         [ 1.0718e+00,  7.8501e-01, -1.3154e+00, -8.7818e-01, -9.2953e-01,\n",
       "          -9.7484e-02,  1.3638e+00]],\n",
       "\n",
       "        [[-1.0263e+00,  1.3380e+00,  1.2605e+00, -1.2441e+00,  1.4385e-01,\n",
       "           4.3020e-01, -9.0221e-01],\n",
       "         [ 1.3033e+00, -1.5825e+00,  3.0695e-01, -1.5021e-01,  6.7714e-01,\n",
       "           7.3941e-01, -1.2941e+00],\n",
       "         [ 1.1351e+00, -6.0036e-01,  8.5821e-01,  9.8347e-01, -6.4763e-01,\n",
       "          -1.7954e+00,  6.6695e-02]],\n",
       "\n",
       "        [[ 1.2991e+00, -1.6254e-01,  1.6343e+00, -3.7056e-01, -1.4040e+00,\n",
       "          -4.2867e-01, -5.6763e-01],\n",
       "         [ 8.3377e-02, -1.1752e-01,  4.3260e-01,  1.3853e+00, -1.7459e+00,\n",
       "          -9.7395e-01,  9.3606e-01],\n",
       "         [-1.5837e+00,  3.7120e-01,  1.0904e+00,  1.3950e+00, -8.4279e-02,\n",
       "          -9.1525e-02, -1.0971e+00]],\n",
       "\n",
       "        [[ 3.2980e-02, -6.3734e-01,  5.0737e-02,  6.8286e-01, -1.8120e+00,\n",
       "           1.6854e+00, -2.6655e-03],\n",
       "         [ 6.1744e-01,  8.6791e-01, -5.8009e-01,  1.5532e+00, -4.9950e-01,\n",
       "          -2.9095e-01, -1.6680e+00],\n",
       "         [-8.6711e-01,  1.6378e+00,  1.2047e+00, -1.1127e+00, -4.4271e-01,\n",
       "           3.3412e-01, -7.5403e-01]]], grad_fn=<NativeLayerNormBackward>)"
      ]
     },
     "execution_count": 63,
     "metadata": {},
     "output_type": "execute_result"
    }
   ],
   "source": [
    "slfattn(dec_out2)"
   ]
  },
  {
   "cell_type": "code",
   "execution_count": 64,
   "metadata": {},
   "outputs": [],
   "source": [
    "class decoder(nn.Module):\n",
    "    '''\n",
    "    The complete decoder module. \n",
    "    \n",
    "    parameters:\n",
    "    \n",
    "    emb_dim = dimension of the embedding vectors\n",
    "    h = number of attention heads\n",
    "    parallelize = parallelize the computations for differnt heads \n",
    "    ffn_l1_out_fts = number of out_features of 1st layer in feed forward NN. Default is 2048 a suggested in the original paper\n",
    "    \n",
    "    '''\n",
    "    def __init__(self, emb_dim, h, p_drop = 0.1, parallelize = False, ffn_l1_out_fts = 2048):\n",
    "        super().__init__()\n",
    "        \n",
    "        self.emb_dim = emb_dim\n",
    "        self.h = h\n",
    "        self.red_vec_size = emb_dim//h\n",
    "        \n",
    "        # multi_head_attention sub-layer\n",
    "        self.mul_h_attn = multi_head_attn(emb_dim, h, parallelize)\n",
    "        \n",
    "        # multi head encoder decoder attention sublayer\n",
    "        self.mul_h_enc_dec_attn = multi_head_enc_dec_attn(emb_dim, h)\n",
    "        \n",
    "        # feedforward sublayers\n",
    "        self.l1 = nn.Linear(emb_dim, ffn_l1_out_fts)\n",
    "        self.l2 = nn.Linear(ffn_l1_out_fts, emb_dim)\n",
    "        \n",
    "        # layer norm\n",
    "        self.LNorm = nn.LayerNorm(emb_dim) \n",
    "        \n",
    "        self.drop = nn.Dropout(p_drop)\n",
    "        \n",
    "    def forward(self, enc_vecs, dec_vecs):\n",
    "        dec_vecs = self.mul_h_attn(dec_vecs)\n",
    "        ff_in = self.mul_h_enc_dec_attn(enc_vecs, dec_vecs)\n",
    "        out = torch.relu(self.l1(ff_in))\n",
    "        out = self.drop(self.l2(out))\n",
    "        \n",
    "        return self.LNorm(out + ff_in)\n",
    "    \n",
    "    \n",
    "    "
   ]
  },
  {
   "cell_type": "code",
   "execution_count": 65,
   "metadata": {},
   "outputs": [
    {
     "data": {
      "text/plain": [
       "decoder(\n",
       "  (mul_h_attn): multi_head_attn(\n",
       "    (Wo): Linear(in_features=6, out_features=7, bias=False)\n",
       "    (LNorm): LayerNorm((7,), eps=1e-05, elementwise_affine=True)\n",
       "    (drop): Dropout(p=False, inplace=False)\n",
       "  )\n",
       "  (mul_h_enc_dec_attn): multi_head_enc_dec_attn(\n",
       "    (Wo): Linear(in_features=6, out_features=7, bias=False)\n",
       "    (LNorm): LayerNorm((7,), eps=1e-05, elementwise_affine=True)\n",
       "    (drop): Dropout(p=0.1, inplace=False)\n",
       "  )\n",
       "  (l1): Linear(in_features=7, out_features=2048, bias=True)\n",
       "  (l2): Linear(in_features=2048, out_features=7, bias=True)\n",
       "  (LNorm): LayerNorm((7,), eps=1e-05, elementwise_affine=True)\n",
       "  (drop): Dropout(p=0.1, inplace=False)\n",
       ")"
      ]
     },
     "execution_count": 65,
     "metadata": {},
     "output_type": "execute_result"
    }
   ],
   "source": [
    "batch_size = 5\n",
    "enc_seq_len = 4\n",
    "dec_seq_len = 2\n",
    "emb_dim = 7\n",
    "h = 2\n",
    "enc_out = torch.randn((batch_size, enc_seq_len, emb_dim))\n",
    "dec_out = torch.randn(batch_size, dec_seq_len, emb_dim)\n",
    "dec = decoder(emb_dim, h)\n",
    "dec"
   ]
  },
  {
   "cell_type": "code",
   "execution_count": 66,
   "metadata": {},
   "outputs": [
    {
     "data": {
      "text/plain": [
       "torch.Size([5, 2, 7])"
      ]
     },
     "execution_count": 66,
     "metadata": {},
     "output_type": "execute_result"
    }
   ],
   "source": [
    "dec_ot = dec(enc_out, dec_out)\n",
    "dec_ot.shape"
   ]
  },
  {
   "cell_type": "code",
   "execution_count": 67,
   "metadata": {},
   "outputs": [
    {
     "data": {
      "text/plain": [
       "torch.Size([5, 2, 7])"
      ]
     },
     "execution_count": 67,
     "metadata": {},
     "output_type": "execute_result"
    }
   ],
   "source": [
    "dec_out.shape"
   ]
  },
  {
   "cell_type": "code",
   "execution_count": 68,
   "metadata": {},
   "outputs": [],
   "source": [
    "def positional_encoding(emb_dim, seq_len):\n",
    "    posts = torch.arange(seq_len).unsqueeze(1)\n",
    "    pows = 10000**(torch.arange(emb_dim//2)/float(emb_dim))\n",
    "    mat = posts/pows # rows = position in the sequence , # col = index along the embedding space\n",
    "    first_half = torch.sin(mat)\n",
    "    second_half = torch.cos(mat)\n",
    "    out = torch.cat((first_half, second_half), dim = 1)\n",
    "    return out\n",
    "    "
   ]
  },
  {
   "cell_type": "code",
   "execution_count": 69,
   "metadata": {},
   "outputs": [],
   "source": [
    "mm = positional_encoding(512,20)"
   ]
  },
  {
   "cell_type": "code",
   "execution_count": 70,
   "metadata": {},
   "outputs": [
    {
     "data": {
      "image/png": "[encoded data removed]",
      "text/plain": [
       "<Figure size 1080x720 with 2 Axes>"
      ]
     },
     "metadata": {
      "needs_background": "light"
     },
     "output_type": "display_data"
    }
   ],
   "source": [
    "plt.figure(figsize = (15,10))\n",
    "plt.imshow(mm.numpy(), aspect = 'auto')\n",
    "plt.colorbar()\n",
    "plt.show()"
   ]
  },
  {
   "cell_type": "code",
   "execution_count": 71,
   "metadata": {},
   "outputs": [
    {
     "data": {
      "text/plain": [
       "tensor([[[4, 4, 3, 0],\n",
       "         [2, 3, 3, 2],\n",
       "         [3, 0, 4, 4]],\n",
       "\n",
       "        [[1, 4, 1, 2],\n",
       "         [0, 0, 3, 2],\n",
       "         [0, 0, 2, 4]],\n",
       "\n",
       "        [[4, 4, 4, 2],\n",
       "         [3, 4, 2, 0],\n",
       "         [3, 2, 1, 1]],\n",
       "\n",
       "        [[3, 4, 2, 4],\n",
       "         [4, 1, 1, 1],\n",
       "         [0, 1, 0, 2]],\n",
       "\n",
       "        [[0, 0, 2, 1],\n",
       "         [1, 0, 3, 1],\n",
       "         [1, 4, 4, 1]]])"
      ]
     },
     "execution_count": 71,
     "metadata": {},
     "output_type": "execute_result"
    }
   ],
   "source": [
    "bs = 5\n",
    "seq_len = 3\n",
    "emb_dim = 4\n",
    "arr1 = torch.randint(low =0, high = 5, size = (bs, seq_len, emb_dim))\n",
    "arr1"
   ]
  },
  {
   "cell_type": "code",
   "execution_count": 72,
   "metadata": {},
   "outputs": [
    {
     "data": {
      "text/plain": [
       "tensor([[ 0.0000,  0.0000,  1.0000,  1.0000],\n",
       "        [ 0.8415,  0.0998,  0.5403,  0.9950],\n",
       "        [ 0.9093,  0.1987, -0.4161,  0.9801]])"
      ]
     },
     "execution_count": 72,
     "metadata": {},
     "output_type": "execute_result"
    }
   ],
   "source": [
    "arr2 = positional_encoding(emb_dim, seq_len)\n",
    "arr2"
   ]
  },
  {
   "cell_type": "code",
   "execution_count": 73,
   "metadata": {},
   "outputs": [
    {
     "data": {
      "text/plain": [
       "tensor([[[ 4.0000,  4.0000,  4.0000,  1.0000],\n",
       "         [ 2.8415,  3.0998,  3.5403,  2.9950],\n",
       "         [ 3.9093,  0.1987,  3.5839,  4.9801]],\n",
       "\n",
       "        [[ 1.0000,  4.0000,  2.0000,  3.0000],\n",
       "         [ 0.8415,  0.0998,  3.5403,  2.9950],\n",
       "         [ 0.9093,  0.1987,  1.5839,  4.9801]],\n",
       "\n",
       "        [[ 4.0000,  4.0000,  5.0000,  3.0000],\n",
       "         [ 3.8415,  4.0998,  2.5403,  0.9950],\n",
       "         [ 3.9093,  2.1987,  0.5839,  1.9801]],\n",
       "\n",
       "        [[ 3.0000,  4.0000,  3.0000,  5.0000],\n",
       "         [ 4.8415,  1.0998,  1.5403,  1.9950],\n",
       "         [ 0.9093,  1.1987, -0.4161,  2.9801]],\n",
       "\n",
       "        [[ 0.0000,  0.0000,  3.0000,  2.0000],\n",
       "         [ 1.8415,  0.0998,  3.5403,  1.9950],\n",
       "         [ 1.9093,  4.1987,  3.5839,  1.9801]]])"
      ]
     },
     "execution_count": 73,
     "metadata": {},
     "output_type": "execute_result"
    }
   ],
   "source": [
    "arr1+arr2"
   ]
  }
 ],
 "metadata": {
  "kernelspec": {
   "display_name": "Python [conda env:pytorch]",
   "language": "python",
   "name": "conda-env-pytorch-py"
  },
  "language_info": {
   "codemirror_mode": {
    "name": "ipython",
    "version": 3
   },
   "file_extension": ".py",
   "mimetype": "text/x-python",
   "name": "python",
   "nbconvert_exporter": "python",
   "pygments_lexer": "ipython3",
   "version": "3.7.6"
  }
 },
 "nbformat": 4,
 "nbformat_minor": 4
}
